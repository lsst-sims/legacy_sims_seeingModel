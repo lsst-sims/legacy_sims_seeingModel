{
 "cells": [
  {
   "cell_type": "code",
   "execution_count": 1,
   "metadata": {},
   "outputs": [],
   "source": [
    "import numpy as np\n",
    "import time_handler_copy as tc\n",
    "import lsst.sims.seeingModel as sm"
   ]
  },
  {
   "cell_type": "code",
   "execution_count": 2,
   "metadata": {},
   "outputs": [],
   "source": [
    "timeHandler = tc.TimeHandler('2020-01-03')"
   ]
  },
  {
   "cell_type": "code",
   "execution_count": 3,
   "metadata": {},
   "outputs": [],
   "source": [
    "seeingSim = sm.SeeingSim(timeHandler)"
   ]
  },
  {
   "cell_type": "code",
   "execution_count": 4,
   "metadata": {},
   "outputs": [
    {
     "name": "stdout",
     "output_type": "stream",
     "text": [
      "0.85060697794\n"
     ]
    }
   ],
   "source": [
    "# We can use SeeingData directly through seeimgSim. \n",
    "fwhm500 = seeingSim.seeing_data.fwhm500_at_time(700)\n",
    "print(fwhm500)"
   ]
  },
  {
   "cell_type": "code",
   "execution_count": 10,
   "metadata": {},
   "outputs": [
    {
     "name": "stdout",
     "output_type": "stream",
     "text": [
      "\t [ 1.   1.2  1.4]\n",
      "u [ 1.19692811  1.33529374  1.4646872 ]\n",
      "g [ 1.11713169  1.2462728   1.3670399 ]\n",
      "r [ 1.04964133  1.17098052  1.2844516 ]\n",
      "i [ 1.00239003  1.11826694  1.22662994]\n",
      "z [ 0.96979776  1.08190699  1.18674661]\n",
      "y [ 0.94536973  1.05465505  1.15685389]\n"
     ]
    }
   ],
   "source": [
    "# And we can use SeeingModel directly through seeingSim.\n",
    "airmass = np.arange(1.0, 1.5, 0.2)\n",
    "fwhm_eff, fwhm_geom = seeingSim.seeing_model.seeing_at_airmass(fwhm500, airmass=airmass)\n",
    "print('\\t', airmass)\n",
    "for i, f in enumerate(seeingSim.filter_list):\n",
    "    print(f, fwhm_eff[i])"
   ]
  },
  {
   "cell_type": "code",
   "execution_count": 13,
   "metadata": {},
   "outputs": [
    {
     "name": "stdout",
     "output_type": "stream",
     "text": [
      "\t [ 1.   1.2  1.4]\n",
      "u [ 1.19692811  1.33529374  1.4646872 ]\n",
      "g [ 1.11713169  1.2462728   1.3670399 ]\n",
      "r [ 1.04964133  1.17098052  1.2844516 ]\n",
      "i [ 1.00239003  1.11826694  1.22662994]\n",
      "z [ 0.96979776  1.08190699  1.18674661]\n",
      "y [ 0.94536973  1.05465505  1.15685389]\n"
     ]
    }
   ],
   "source": [
    "# But the point is that seeingSim can do \"both at once\" for simulations, with all filters and all airmasses.\n",
    "fwhm500, fwhmgeom, fwhmeff = seeingSim.get_seeing(700, airmass)\n",
    "print('\\t', airmass)\n",
    "for i, f in enumerate(seeingSim.filter_list):\n",
    "    print(f, fwhmeff[i])"
   ]
  },
  {
   "cell_type": "code",
   "execution_count": 14,
   "metadata": {},
   "outputs": [
    {
     "name": "stdout",
     "output_type": "stream",
     "text": [
      "0.85060697794 0.970282246115 1.11713168627\n"
     ]
    }
   ],
   "source": [
    "# And to comply with the \"old API\" you can get a single filter at a time, for a single airmass \n",
    "fwhm500, fwhmgeom_g, fwhmeff_g = seeingSim.calculate_seeing(700, 'g', 1.0)\n",
    "print(fwhm500, fwhmgeom_g, fwhmeff_g)"
   ]
  },
  {
   "cell_type": "code",
   "execution_count": 20,
   "metadata": {},
   "outputs": [
    {
     "name": "stdout",
     "output_type": "stream",
     "text": [
      "[ 1.   1.2  1.4] [ 1.11713169  1.2462728   1.3670399 ]\n"
     ]
    }
   ],
   "source": [
    "# Although we're sneaky, because you can also get the seeing in a single filter for multiple airmasses.\n",
    "fwhm500, fwhmgeom_g, fwhmeff_g = seeingSim.calculate_seeing(700, 'g', airmass)\n",
    "print(airmass, fwhmeff_g)"
   ]
  },
  {
   "cell_type": "code",
   "execution_count": 43,
   "metadata": {},
   "outputs": [
    {
     "name": "stdout",
     "output_type": "stream",
     "text": [
      "\t 1.0\n",
      "u 1.19692810772\n",
      "g 1.11713168627\n",
      "r 1.0496413291\n",
      "i 1.00239003265\n",
      "z 0.969797761825\n",
      "y 0.945369726411\n"
     ]
    }
   ],
   "source": [
    "# But for cool new stuff, get all the filters at once. For either a single or multiple airmasses.\n",
    "airmass = 1.0\n",
    "fwhm500, fwhm_geom, fwhm_eff = seeingSim.get_seeing(700, airmass)\n",
    "print('\\t', airmass)\n",
    "for i, f in enumerate(seeingSim.filter_list):\n",
    "    print(f, fwhm_eff[i])"
   ]
  },
  {
   "cell_type": "code",
   "execution_count": 44,
   "metadata": {},
   "outputs": [
    {
     "name": "stdout",
     "output_type": "stream",
     "text": [
      "\t [ 1.   1.2  1.4]\n",
      "u [ 1.19692811  1.33529374  1.4646872 ]\n",
      "g [ 1.11713169  1.2462728   1.3670399 ]\n",
      "r [ 1.04964133  1.17098052  1.2844516 ]\n",
      "i [ 1.00239003  1.11826694  1.22662994]\n",
      "z [ 0.96979776  1.08190699  1.18674661]\n",
      "y [ 0.94536973  1.05465505  1.15685389]\n"
     ]
    }
   ],
   "source": [
    "# But for cool new stuff, get all the filters at once. For either a single or multiple airmasses.\n",
    "airmass = np.arange(1.0, 1.5, 0.2)\n",
    "fwhm500, fwhm_geom, fwhm_eff = seeingSim.get_seeing(700, airmass)\n",
    "print('\\t', airmass)\n",
    "for i, f in enumerate(seeingSim.filter_list):\n",
    "    print(f, fwhm_eff[i])"
   ]
  },
  {
   "cell_type": "code",
   "execution_count": 95,
   "metadata": {},
   "outputs": [
    {
     "name": "stdout",
     "output_type": "stream",
     "text": [
      "210 ms ± 3.09 ms per loop (mean ± std. dev. of 7 runs, 1 loop each)\n"
     ]
    }
   ],
   "source": [
    "%%timeit\n",
    "times = np.random.rand(1000)*100000\n",
    "airmass = np.arange(1.0, 1.5, 0.0002)\n",
    "for t in times:\n",
    "    fwhm500, fwhmgeom, fwhmeff = seeingSim.get_seeing(t, airmass)"
   ]
  },
  {
   "cell_type": "code",
   "execution_count": 94,
   "metadata": {},
   "outputs": [
    {
     "name": "stdout",
     "output_type": "stream",
     "text": [
      "1000 2500\n"
     ]
    }
   ],
   "source": [
    "print(len(times), len(airmass))"
   ]
  },
  {
   "cell_type": "markdown",
   "metadata": {},
   "source": [
    "So that was: \n",
    "* 26.3ms for 1000 different times, and 3 airmasses, in all filters. \n",
    "* 63.2ms for 1000 different times, and 500 airmasses, in all filters.\n",
    "* 95.6ms for 1000 different times, and 1000 airmasses, in all filters.\n",
    "* 210ms for 1000 different times, and 2500 airmasses, in all filters.\n",
    "* 409ms for 1000 different times, and 5000 airmasses, in all filters.\n",
    "* 652ms for 1000 different times, and 10000 airmasses, in all filters.\n",
    "\n",
    "* 24.1ms for 500 times, and 250 airmasses, in all filters.\n",
    "* 45.7ms for 1000 times, and 250 airmasses, in all filters.\n",
    "* 228ms for 5000 times, and 250 airmasses, in all filters.\n",
    "* 454ms for 10000 times, and 250 airmasses, in all filters."
   ]
  },
  {
   "cell_type": "code",
   "execution_count": 96,
   "metadata": {},
   "outputs": [
    {
     "data": {
      "image/png": "[encoded data removed]",
      "text/plain": [
       "<matplotlib.figure.Figure at 0x18172eb978>"
      ]
     },
     "metadata": {},
     "output_type": "display_data"
    },
    {
     "data": {
      "image/png": "[encoded data removed]",
      "text/plain": [
       "<matplotlib.figure.Figure at 0x18172127f0>"
      ]
     },
     "metadata": {},
     "output_type": "display_data"
    }
   ],
   "source": [
    "import matplotlib.pyplot as plt\n",
    "%matplotlib inline\n",
    "t1 = np.array([26.3, 45.7, 63.2, 95.6, 210, 409, 652], float)\n",
    "t1_x = np.array([3, 250, 500, 1000, 2500, 5000, 10000])\n",
    "t2 = np.array([24.1, 45.7, 228, 454], float)\n",
    "t2_x = np.array([500, 1000, 5000, 10000])\n",
    "plt.figure()\n",
    "plt.plot(t1_x, t1, 'k-', marker='o')\n",
    "plt.xlabel('# airmass values')\n",
    "plt.ylabel('Time (ms)')\n",
    "plt.figure()\n",
    "plt.plot(t2_x, t2, 'k-', marker='o')\n",
    "plt.xlabel('# times')\n",
    "plt.ylabel('Time (ms)')\n",
    "plt.show()"
   ]
  },
  {
   "cell_type": "code",
   "execution_count": 99,
   "metadata": {},
   "outputs": [
    {
     "name": "stdout",
     "output_type": "stream",
     "text": [
      "49152\n"
     ]
    }
   ],
   "source": [
    "# Estimate of performance for featureScheduler, doing things the simplest way \n",
    "# (all pixels = all airmasses .. which we wouldn't necessarily do)\n",
    "# typical nside = 64\n",
    "import healpy as hp\n",
    "npix = hp.nside2npix(64)\n",
    "print(npix)"
   ]
  },
  {
   "cell_type": "code",
   "execution_count": 101,
   "metadata": {},
   "outputs": [
    {
     "name": "stdout",
     "output_type": "stream",
     "text": [
      "4.28 ms ± 261 µs per loop (mean ± std. dev. of 7 runs, 100 loops each)\n"
     ]
    }
   ],
   "source": [
    "%%timeit\n",
    "airmasses = np.random.rand(npix) + 1.0\n",
    "t = 12000\n",
    "fwhm500, fwhmgeom, fwhmeff = seeingSim.get_seeing(t, airmasses)"
   ]
  },
  {
   "cell_type": "code",
   "execution_count": 110,
   "metadata": {},
   "outputs": [
    {
     "name": "stdout",
     "output_type": "stream",
     "text": [
      "3.566666666666667 hrs\n",
      "3.424 sec\n"
     ]
    }
   ],
   "source": [
    "# ~4.28 ms for one time, 49152 airmasses.\n",
    "# We will ask for *at least* 3M observations, where we'd probably want to update seeing for all maps.\n",
    "print((4.28 * 3 * 1e6) / 1000 / 3600, 'hrs')\n",
    "print((4.28 * 800)/1000, 'sec')\n",
    "# So estimate 3.5 compute hours just checking seeing values for the whole survey, 3.5 seconds per night."
   ]
  }
 ],
 "metadata": {
  "kernelspec": {
   "display_name": "Python 3",
   "language": "python",
   "name": "python3"
  },
  "language_info": {
   "codemirror_mode": {
    "name": "ipython",
    "version": 3
   },
   "file_extension": ".py",
   "mimetype": "text/x-python",
   "name": "python",
   "nbconvert_exporter": "python",
   "pygments_lexer": "ipython3",
   "version": "3.6.4"
  }
 },
 "nbformat": 4,
 "nbformat_minor": 2
}

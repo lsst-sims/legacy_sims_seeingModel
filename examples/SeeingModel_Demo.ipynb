{
 "cells": [
  {
   "cell_type": "code",
   "execution_count": 1,
   "metadata": {},
   "outputs": [],
   "source": [
    "import os\n",
    "import numpy as np\n",
    "import matplotlib.pyplot as plt\n",
    "%matplotlib inline\n",
    "import numpy.ma as ma\n",
    "\n",
    "import healpy as hp\n",
    "from lsst.sims.utils import _hpid2RaDec, _approx_RaDec2AltAz\n",
    "from lsst.sims.utils import Site\n",
    "\n",
    "from astropy.time import Time, TimeDelta\n",
    "import lsst.sims.seeingModel as sm\n",
    "\n",
    "from lsst.utils import getPackageDir"
   ]
  },
  {
   "cell_type": "code",
   "execution_count": 2,
   "metadata": {},
   "outputs": [
    {
     "name": "stdout",
     "output_type": "stream",
     "text": [
      "{'telescope_seeing': 0.25, 'optical_design_seeing': 0.08, 'camera_seeing': 0.3, 'raw_seeing_wavelength': 500.0, 'filter_list': ['u', 'g', 'r', 'i', 'z', 'y'], 'filter_effwavelens': [368.48, 480.2, 623.12, 754.17, 869.05, 973.64], 'throughputs_version': '1.5', 'efd_columns': ['FWHM_500'], 'efd_delta_time': 0.0, 'target_columns': ['airmass']}\n"
     ]
    }
   ],
   "source": [
    "# Set up a SeeingModelConfig .. this could then be modified before passing to SeeingModel. \n",
    "conf = sm.SeeingModelConfig()\n",
    "print(conf)"
   ]
  },
  {
   "cell_type": "code",
   "execution_count": 3,
   "metadata": {},
   "outputs": [
    {
     "name": "stdout",
     "output_type": "stream",
     "text": [
      "w.2019.10.1-2-g60d0775 1.5\n",
      "[('u', 368.48332642306536), ('g', 480.19980829214086), ('r', 623.1199855290156), ('i', 754.1691936287622), ('z', 869.0469808767107), ('y', 973.6408690453528)]\n"
     ]
    }
   ],
   "source": [
    "# You can also check/update the effective wavelengths:\n",
    "filters = ('u', 'g', 'r', 'i', 'z', 'y')\n",
    "sims_photUtils_version, throughputs_version, effwavelens = sm.get_effwavelens(filters)\n",
    "print(sims_photUtils_version, throughputs_version)\n",
    "print(list(zip(filters, effwavelens)))"
   ]
  },
  {
   "cell_type": "code",
   "execution_count": 4,
   "metadata": {},
   "outputs": [],
   "source": [
    "# Example of updating these values\n",
    "conf.filter_list = filters\n",
    "conf.throughputs_version = throughputs_version\n",
    "conf.filter_effwavelens = effwavelens"
   ]
  },
  {
   "cell_type": "code",
   "execution_count": 5,
   "metadata": {},
   "outputs": [],
   "source": [
    "# Set up and configure the SeeingModel. (note that configure with no kwarg will just use defaults, as above)\n",
    "seeingModel = sm.SeeingModel(conf)   #  equivalent to seeingModel = sm.SeeingModel() when using defaults"
   ]
  },
  {
   "cell_type": "code",
   "execution_count": 6,
   "metadata": {},
   "outputs": [
    {
     "data": {
      "text/plain": [
       "OrderedDict([('SeeingModel_version', 'unknown'),\n",
       "             ('SeeingModel_sha', '9c227f867ba771bd4c66fa36de37e3bafb93a1a9 *'),\n",
       "             ('telescope_seeing', 0.25),\n",
       "             ('optical_design_seeing', 0.08),\n",
       "             ('camera_seeing', 0.3),\n",
       "             ('raw_seeing_wavelength', 500.0),\n",
       "             ('filter_list', ['u', 'g', 'r', 'i', 'z', 'y']),\n",
       "             ('filter_effwavelens',\n",
       "              [368.48332642306536, 480.19980829214086, 623.1199855290156, 754.1691936287622, 869.0469808767107, 973.6408690453528]),\n",
       "             ('throughputs_version', '1.5'),\n",
       "             ('efd_columns', ['FWHM_500']),\n",
       "             ('efd_delta_time', 0.0),\n",
       "             ('target_columns', ['airmass'])])"
      ]
     },
     "execution_count": 6,
     "metadata": {},
     "output_type": "execute_result"
    }
   ],
   "source": [
    "# Dump the config properties and version info.\n",
    "seeingModel.config_info()"
   ]
  },
  {
   "cell_type": "code",
   "execution_count": 7,
   "metadata": {},
   "outputs": [
    {
     "name": "stdout",
     "output_type": "stream",
     "text": [
      "['FWHM_500'] 0.0\n",
      "['airmass']\n"
     ]
    }
   ],
   "source": [
    "# Find the values the SeeingModel wants from the EFD. \n",
    "cols, deltaT = seeingModel.efd_requirements\n",
    "print(cols, deltaT)\n",
    "# Find the columns the SeeingModel wants in its input map (over which to calculate the seeing values)\n",
    "print(seeingModel.target_requirements)"
   ]
  },
  {
   "cell_type": "code",
   "execution_count": 8,
   "metadata": {},
   "outputs": [],
   "source": [
    "# Set up to get seeingData from db..  (this is where EFD would step in, in the future)\n",
    "t = Time('2002-01-01', scale='utc', format='isot')\n",
    "\n",
    "# setting seeing_db = None will use the default. \n",
    "# Here we will specify what is currently the default, as an example of how to set the value.\n",
    "seeing_db = os.path.join(getPackageDir('SIMS_SEEINGMODEL'), 'data', 'simsee_pachon_58777_13.db')\n",
    "\n",
    "# Set up the seeingData\n",
    "seeingData = sm.SeeingData(t, seeing_db=seeing_db)\n",
    "seeingData.read_data()"
   ]
  },
  {
   "cell_type": "code",
   "execution_count": 11,
   "metadata": {},
   "outputs": [],
   "source": [
    "# Take a peek at the FWHM_500 values throughout the lifetime of the survey. \n",
    "\n",
    "t_end = (3650) * 24 * 60 * 60  # seconds\n",
    "t_step = 1 * 24 * 60 * 60\n",
    "times = np.arange(0, t_end + t_step/2, t_step)\n",
    "fwhm_500 = np.zeros(len(times), float)\n",
    "for i, t_add in enumerate(times):\n",
    "    t_now = t + TimeDelta(t_add, format='jd')\n",
    "    fwhm_500[i] = seeingData(t_now)"
   ]
  },
  {
   "cell_type": "code",
   "execution_count": 12,
   "metadata": {},
   "outputs": [
    {
     "data": {
      "text/plain": [
       "Text(0, 0.5, 'FWHM_500')"
      ]
     },
     "execution_count": 12,
     "metadata": {},
     "output_type": "execute_result"
    },
    {
     "data": {
      "image/png": "[encoded data removed]",
      "text/plain": [
       "<Figure size 576x432 with 1 Axes>"
      ]
     },
     "metadata": {
      "needs_background": "light"
     },
     "output_type": "display_data"
    }
   ],
   "source": [
    "plt.figure(figsize=(8, 6))\n",
    "plt.plot(times, fwhm_500, 'k-')\n",
    "plt.xlabel('Seconds (over 10 years)')\n",
    "plt.ylabel('FWHM_500')"
   ]
  },
  {
   "cell_type": "code",
   "execution_count": 13,
   "metadata": {},
   "outputs": [
    {
     "data": {
      "text/plain": [
       "Text(0, 0.5, 'Airmass')"
      ]
     },
     "execution_count": 13,
     "metadata": {},
     "output_type": "execute_result"
    },
    {
     "data": {
      "image/png": "[encoded data removed]",
      "text/plain": [
       "<Figure size 432x288 with 1 Axes>"
      ]
     },
     "metadata": {
      "needs_background": "light"
     },
     "output_type": "display_data"
    }
   ],
   "source": [
    "# Set up grid around sky .. (places we'd be likely to calculate the FWHM_eff in the FBS)\n",
    "lsst_site = Site('LSST')\n",
    "nside = 32\n",
    "hpid = np.arange(hp.nside2npix(nside))\n",
    "ra, dec = _hpid2RaDec(nside, hpid)\n",
    "alt, az = _approx_RaDec2AltAz(ra, dec, lsst_site.latitude_rad, lsst_site.longitude_rad, t.mjd)\n",
    "\n",
    "# Set up a mask so that we only calculate airmass (and seeing) where it's visible.\n",
    "# This is faster than using explicit masked arrays.\n",
    "mask = np.where(alt < np.radians(20), True, False)\n",
    "visible = np.where(alt > np.radians(20))\n",
    "airmass = 1./np.cos(np.pi/2. - alt)\n",
    "\n",
    "plt.plot(np.degrees(alt[visible]), airmass[visible], 'b.')\n",
    "plt.xlabel('Altitude (deg)')\n",
    "plt.ylabel('Airmass')"
   ]
  },
  {
   "cell_type": "code",
   "execution_count": 16,
   "metadata": {},
   "outputs": [
    {
     "name": "stdout",
     "output_type": "stream",
     "text": [
      "92.7 µs ± 5.27 µs per loop (mean ± std. dev. of 7 runs, 10000 loops each)\n"
     ]
    }
   ],
   "source": [
    "%%timeit \n",
    "# Full calculation\n",
    "airmass = 1./np.cos(np.pi/2. - alt)"
   ]
  },
  {
   "cell_type": "code",
   "execution_count": 17,
   "metadata": {},
   "outputs": [],
   "source": [
    "altM = ma.MaskedArray(data=alt, mask=mask, fill_value=0)\n",
    "airmassM = 1./np.cos(np.pi/2. - altM)"
   ]
  },
  {
   "cell_type": "code",
   "execution_count": 18,
   "metadata": {},
   "outputs": [
    {
     "name": "stdout",
     "output_type": "stream",
     "text": [
      "346 µs ± 8.77 µs per loop (mean ± std. dev. of 7 runs, 1000 loops each)\n"
     ]
    }
   ],
   "source": [
    "%%timeit  \n",
    "# Calculation with masked arrays ... this is much slower.\n",
    "airmassM = 1./np.cos(np.pi/2. - altM)"
   ]
  },
  {
   "cell_type": "code",
   "execution_count": 14,
   "metadata": {},
   "outputs": [],
   "source": [
    "airmass = np.zeros(len(alt), float)"
   ]
  },
  {
   "cell_type": "code",
   "execution_count": 15,
   "metadata": {},
   "outputs": [
    {
     "name": "stdout",
     "output_type": "stream",
     "text": [
      "55.5 µs ± 1.03 µs per loop (mean ± std. dev. of 7 runs, 10000 loops each)\n"
     ]
    }
   ],
   "source": [
    "%%timeit\n",
    "# calculation with mask, although making 'airmass' array each time.\n",
    "airmass[visible] = 1./np.cos(np.pi/2. - alt[visible])"
   ]
  },
  {
   "cell_type": "code",
   "execution_count": 19,
   "metadata": {},
   "outputs": [
    {
     "name": "stdout",
     "output_type": "stream",
     "text": [
      "1.2106643542178421\n"
     ]
    }
   ],
   "source": [
    "fwhm_500 = seeingData(t_now)\n",
    "print(fwhm_500)"
   ]
  },
  {
   "cell_type": "code",
   "execution_count": 20,
   "metadata": {},
   "outputs": [],
   "source": [
    "# Put input telemetry and target map into dictionaries:\n",
    "mapDict = {'airmass': airmass}\n",
    "mapDictMask = {'airmass': airmass[visible]}\n",
    "efdDict = {'FWHM_500': fwhm_500}"
   ]
  },
  {
   "cell_type": "code",
   "execution_count": 21,
   "metadata": {},
   "outputs": [
    {
     "name": "stdout",
     "output_type": "stream",
     "text": [
      "892 µs ± 50.3 µs per loop (mean ± std. dev. of 7 runs, 1000 loops each)\n"
     ]
    }
   ],
   "source": [
    "%%timeit\n",
    "# Check time to calculate seeing. No mask. \n",
    "modelDict = seeingModel(efdDict, mapDict)\n",
    "fwhm_eff = modelDict['fwhmEff']\n",
    "fwhm_geom = modelDict['fwhmGeom']"
   ]
  },
  {
   "cell_type": "code",
   "execution_count": 22,
   "metadata": {},
   "outputs": [
    {
     "name": "stdout",
     "output_type": "stream",
     "text": [
      "551 µs ± 11.4 µs per loop (mean ± std. dev. of 7 runs, 1000 loops each)\n"
     ]
    }
   ],
   "source": [
    "%%timeit\n",
    "# Check time to calculate seeing. WITH mask.\n",
    "fwhm_eff = np.zeros((len(seeingModel.filter_list), len(airmass)), float)\n",
    "fwhm_geom = np.zeros((len(seeingModel.filter_list), len(airmass)), float)\n",
    "#print(fwhm_eff[:, visible[0]].shape)\n",
    "modelDict = seeingModel(efdDict, mapDictMask)\n",
    "fwhm_eff[:, visible[0]] = modelDict['fwhmEff']\n",
    "fwhm_geom[:, visible[0]] = modelDict['fwhmGeom']"
   ]
  },
  {
   "cell_type": "code",
   "execution_count": 23,
   "metadata": {},
   "outputs": [],
   "source": [
    "# And then what about time, if you pre-allocate arrays?\n",
    "fwhm_eff = np.zeros((len(seeingModel.filter_list), len(airmass)), float)\n",
    "fwhm_geom = np.zeros((len(seeingModel.filter_list), len(airmass)), float)"
   ]
  },
  {
   "cell_type": "code",
   "execution_count": 24,
   "metadata": {},
   "outputs": [
    {
     "name": "stdout",
     "output_type": "stream",
     "text": [
      "506 µs ± 11 µs per loop (mean ± std. dev. of 7 runs, 1000 loops each)\n"
     ]
    }
   ],
   "source": [
    "%%timeit\n",
    "modelDict = seeingModel(efdDict, mapDictMask)\n",
    "fwhm_eff[:, visible[0]] = modelDict['fwhmEff']\n",
    "fwhm_geom[:, visible[0]] = modelDict['fwhmGeom']"
   ]
  },
  {
   "cell_type": "code",
   "execution_count": 25,
   "metadata": {},
   "outputs": [],
   "source": [
    "# Loop over a bunch of times and calculate values.. (maybe what you'd do in the driver)\n",
    "t_end = 10 * 60 * 60  # seconds\n",
    "t_step = 30 # seconds\n",
    "times = np.arange(0, t_end + t_step/2, t_step)\n",
    "fwhm_500 = np.zeros(len(times), float)\n",
    "fwhm_eff = np.zeros((len(seeingModel.filter_list), len(airmass)), float)\n",
    "fwhm_geom = np.zeros((len(seeingModel.filter_list), len(airmass)), float)\n",
    "for i, t_add in enumerate(times):\n",
    "    t_now = t + TimeDelta(t_add, format='jd')\n",
    "    fwhm_500[i] = seeingData(t_now)\n",
    "    modelDict = seeingModel({'FWHM_500': fwhm_500[i]}, mapDictMask)\n",
    "    fwhm_eff[:, visible[0]] = modelDict['fwhmEff']\n",
    "    fwhm_geom[:, visible[0]] = modelDict['fwhmGeom']"
   ]
  },
  {
   "cell_type": "code",
   "execution_count": 26,
   "metadata": {},
   "outputs": [
    {
     "name": "stdout",
     "output_type": "stream",
     "text": [
      "u [1.53940787 1.52421421 1.51349541 ... 1.23801007 1.26166602 1.22099697]\n",
      "g [1.46076516 1.44634769 1.43617648 ... 1.17476467 1.19721213 1.15862071]\n",
      "r [1.39124138 1.3775101  1.36782298 ... 1.11885282 1.14023191 1.10347722]\n",
      "i [1.34489528 1.33162142 1.322257   ... 1.08158073 1.10224762 1.06671733]\n",
      "z [1.31282855 1.29987118 1.29073004 ... 1.05579229 1.07596641 1.04128328]\n",
      "y [1.28850777 1.27579045 1.26681865 ... 1.03623323 1.05603362 1.02199301]\n"
     ]
    }
   ],
   "source": [
    "for f, fwhmEff in zip(seeingModel.filter_list, fwhm_eff):\n",
    "    print(f, fwhmEff[visible])"
   ]
  },
  {
   "cell_type": "code",
   "execution_count": null,
   "metadata": {},
   "outputs": [],
   "source": []
  }
 ],
 "metadata": {
  "kernelspec": {
   "display_name": "Python 3",
   "language": "python",
   "name": "python3"
  },
  "language_info": {
   "codemirror_mode": {
    "name": "ipython",
    "version": 3
   },
   "file_extension": ".py",
   "mimetype": "text/x-python",
   "name": "python",
   "nbconvert_exporter": "python",
   "pygments_lexer": "ipython3",
   "version": "3.7.5"
  }
 },
 "nbformat": 4,
 "nbformat_minor": 2
}
